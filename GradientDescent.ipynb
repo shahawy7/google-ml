{
 "cells": [
  {
   "cell_type": "code",
   "execution_count": 9,
   "metadata": {},
   "outputs": [],
   "source": [
    "import numpy as np\n",
    "import pandas as pd\n",
    "import matplotlib.pyplot as plt"
   ]
  },
  {
   "cell_type": "code",
   "execution_count": 10,
   "metadata": {},
   "outputs": [],
   "source": [
    "pounds = np.array([3.5, 3.69, 3.44, 3.43, 4.34, 4.42, 2.37])\n",
    "miles = np.array([18, 15, 18, 16, 15, 14, 24])"
   ]
  },
  {
   "cell_type": "code",
   "execution_count": 161,
   "metadata": {},
   "outputs": [],
   "source": [
    "x = pounds\n",
    "y = miles\n",
    "w = 0\n",
    "b = 0\n",
    "lr = 0.03\n",
    "iterations = 1000\n",
    "weight_track, bias_track, loss_track, dw_track, db_track = [],[],[],[],[]\n",
    "y_hat_track = np.zeros((iterations,7))\n",
    "i = 0   #for manual"
   ]
  },
  {
   "cell_type": "markdown",
   "metadata": {},
   "source": [
    "### Manual"
   ]
  },
  {
   "cell_type": "code",
   "execution_count": 192,
   "metadata": {},
   "outputs": [
    {
     "name": "stdout",
     "output_type": "stream",
     "text": [
      "[15.83877505 16.61938887 15.59226542 15.55118049 19.28990982 19.61858932\n",
      " 11.19617709]\n"
     ]
    }
   ],
   "source": [
    "weight_track.append(w)\n",
    "bias_track.append(b)\n",
    "y_hat = w * x + b\n",
    "y_hat_track[i] = y_hat\n",
    "print(y_hat)"
   ]
  },
  {
   "cell_type": "code",
   "execution_count": 193,
   "metadata": {},
   "outputs": [
    {
     "name": "stdout",
     "output_type": "stream",
     "text": [
      "32.45738452598788\n"
     ]
    }
   ],
   "source": [
    "loss = np.mean(np.square(y-y_hat))\n",
    "loss_track.append(loss)\n",
    "print(loss)"
   ]
  },
  {
   "cell_type": "code",
   "execution_count": 194,
   "metadata": {},
   "outputs": [
    {
     "name": "stdout",
     "output_type": "stream",
     "text": [
      "0.4847179568090273\n",
      "-1.7982039828375898\n"
     ]
    }
   ],
   "source": [
    "d_w = np.mean((y_hat - y) *2*x)\n",
    "dw_track.append(d_w)\n",
    "print(d_w)\n",
    "d_b = np.mean((y_hat - y) *2)\n",
    "db_track.append(d_b)\n",
    "print(d_b)"
   ]
  },
  {
   "cell_type": "code",
   "execution_count": 195,
   "metadata": {},
   "outputs": [
    {
     "name": "stdout",
     "output_type": "stream",
     "text": [
      "w = 4.093952233125273\n",
      "b = 1.5129929691540192\n"
     ]
    }
   ],
   "source": [
    "w = (w - lr * d_w)\n",
    "b = (b - lr * d_b)\n",
    "print(f'w = {w}\\nb = {b}')"
   ]
  },
  {
   "cell_type": "code",
   "execution_count": 196,
   "metadata": {},
   "outputs": [
    {
     "name": "stdout",
     "output_type": "stream",
     "text": [
      "Iteration: 7\n"
     ]
    }
   ],
   "source": [
    "i+=1\n",
    "print(f'Iteration: {i}')"
   ]
  },
  {
   "cell_type": "code",
   "execution_count": 197,
   "metadata": {},
   "outputs": [
    {
     "data": {
      "text/html": [
       "<div>\n",
       "<style scoped>\n",
       "    .dataframe tbody tr th:only-of-type {\n",
       "        vertical-align: middle;\n",
       "    }\n",
       "\n",
       "    .dataframe tbody tr th {\n",
       "        vertical-align: top;\n",
       "    }\n",
       "\n",
       "    .dataframe thead th {\n",
       "        text-align: right;\n",
       "    }\n",
       "</style>\n",
       "<table border=\"1\" class=\"dataframe\">\n",
       "  <thead>\n",
       "    <tr style=\"text-align: right;\">\n",
       "      <th></th>\n",
       "      <th>W</th>\n",
       "      <th>B</th>\n",
       "      <th>Loss</th>\n",
       "      <th>d_w</th>\n",
       "      <th>d_b</th>\n",
       "    </tr>\n",
       "  </thead>\n",
       "  <tbody>\n",
       "    <tr>\n",
       "      <th>0</th>\n",
       "      <td>0.000000</td>\n",
       "      <td>0.000000</td>\n",
       "      <td>303.714286</td>\n",
       "      <td>-119.717143</td>\n",
       "      <td>-34.285714</td>\n",
       "    </tr>\n",
       "    <tr>\n",
       "      <th>1</th>\n",
       "      <td>3.591514</td>\n",
       "      <td>1.028571</td>\n",
       "      <td>38.336048</td>\n",
       "      <td>-16.417344</td>\n",
       "      <td>-6.379930</td>\n",
       "    </tr>\n",
       "    <tr>\n",
       "      <th>2</th>\n",
       "      <td>4.084035</td>\n",
       "      <td>1.219969</td>\n",
       "      <td>32.982670</td>\n",
       "      <td>-1.889041</td>\n",
       "      <td>-2.452395</td>\n",
       "    </tr>\n",
       "    <tr>\n",
       "      <th>3</th>\n",
       "      <td>4.140706</td>\n",
       "      <td>1.293541</td>\n",
       "      <td>32.773486</td>\n",
       "      <td>0.153645</td>\n",
       "      <td>-1.897380</td>\n",
       "    </tr>\n",
       "    <tr>\n",
       "      <th>4</th>\n",
       "      <td>4.136097</td>\n",
       "      <td>1.350463</td>\n",
       "      <td>32.666412</td>\n",
       "      <td>0.440242</td>\n",
       "      <td>-1.816712</td>\n",
       "    </tr>\n",
       "    <tr>\n",
       "      <th>5</th>\n",
       "      <td>4.122889</td>\n",
       "      <td>1.404964</td>\n",
       "      <td>32.561703</td>\n",
       "      <td>0.479849</td>\n",
       "      <td>-1.802764</td>\n",
       "    </tr>\n",
       "  </tbody>\n",
       "</table>\n",
       "</div>"
      ],
      "text/plain": [
       "          W         B        Loss         d_w        d_b\n",
       "0  0.000000  0.000000  303.714286 -119.717143 -34.285714\n",
       "1  3.591514  1.028571   38.336048  -16.417344  -6.379930\n",
       "2  4.084035  1.219969   32.982670   -1.889041  -2.452395\n",
       "3  4.140706  1.293541   32.773486    0.153645  -1.897380\n",
       "4  4.136097  1.350463   32.666412    0.440242  -1.816712\n",
       "5  4.122889  1.404964   32.561703    0.479849  -1.802764"
      ]
     },
     "execution_count": 197,
     "metadata": {},
     "output_type": "execute_result"
    }
   ],
   "source": [
    "tracking = pd.DataFrame({'W':weight_track, 'B':bias_track, 'Loss':loss_track, 'd_w':dw_track, 'd_b':db_track})\n",
    "tracking.head(6)"
   ]
  },
  {
   "cell_type": "markdown",
   "metadata": {},
   "source": [
    "### Automation"
   ]
  },
  {
   "cell_type": "code",
   "execution_count": 198,
   "metadata": {},
   "outputs": [
    {
     "name": "stdout",
     "output_type": "stream",
     "text": [
      "Last iteration loss: 1.4699331330704388\n"
     ]
    },
    {
     "data": {
      "image/png": "[encoded data removed]",
      "text/plain": [
       "<Figure size 640x480 with 1 Axes>"
      ]
     },
     "metadata": {},
     "output_type": "display_data"
    }
   ],
   "source": [
    "w = 0\n",
    "b = 0\n",
    "lr = 0.0696\n",
    "iterations = 1500\n",
    "weight_track, bias_track, loss_track, dw_track, db_track = [],[],[],[],[]\n",
    "y_hat_track = np.zeros((iterations,7))\n",
    "\n",
    "\n",
    "for i in range(iterations):\n",
    "    weight_track.append(w)\n",
    "    bias_track.append(b)\n",
    "\n",
    "    y_hat = w * x + b\n",
    "    loss = np.mean((y_hat - y)**2)\n",
    "    y_hat_track[i] = y_hat\n",
    "    loss_track.append(loss)\n",
    "\n",
    "    dw = np.mean((y_hat-y)*2*x)\n",
    "    db = np.mean((y_hat-y)*2)\n",
    "    dw_track.append(dw)\n",
    "    db_track.append(db)\n",
    "    \n",
    "    w = (w - lr * dw)\n",
    "    b = (b - lr * db)\n",
    "    \n",
    "tracking = pd.DataFrame({'W':weight_track, 'B':bias_track, 'Loss':loss_track, 'd_w':dw_track, 'd_b':db_track})\n",
    "print(f'Last iteration loss: {loss_track[-1]}')\n",
    "plt.plot(range(1,iterations+1), tracking['Loss'], label='Loss')\n",
    "plt.title('Loss vs. Iterations')\n",
    "plt.xlabel('Iterations')\n",
    "plt.ylabel('Loss')\n",
    "plt.grid()\n",
    "plt.show()"
   ]
  },
  {
   "cell_type": "code",
   "execution_count": null,
   "metadata": {},
   "outputs": [],
   "source": []
  }
 ],
 "metadata": {
  "kernelspec": {
   "display_name": "Python 3",
   "language": "python",
   "name": "python3"
  },
  "language_info": {
   "codemirror_mode": {
    "name": "ipython",
    "version": 3
   },
   "file_extension": ".py",
   "mimetype": "text/x-python",
   "name": "python",
   "nbconvert_exporter": "python",
   "pygments_lexer": "ipython3",
   "version": "3.9.20"
  }
 },
 "nbformat": 4,
 "nbformat_minor": 2
}
