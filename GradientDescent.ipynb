{
 "cells": [
  {
   "cell_type": "code",
   "execution_count": 245,
   "metadata": {},
   "outputs": [],
   "source": [
    "import numpy as np\n",
    "import pandas as pd\n",
    "import matplotlib.pyplot as plt"
   ]
  },
  {
   "cell_type": "code",
   "execution_count": 123,
   "metadata": {},
   "outputs": [],
   "source": [
    "pounds = np.array([3.5, 3.69, 3.44, 3.43, 4.34, 4.42, 2.37])\n",
    "miles = np.array([18, 15, 18, 16, 15, 14, 24])"
   ]
  },
  {
   "cell_type": "code",
   "execution_count": 124,
   "metadata": {},
   "outputs": [],
   "source": [
    "data = pd.DataFrame({'Pounds in 1000s': pounds, 'Miles per gallon': miles})"
   ]
  },
  {
   "cell_type": "code",
   "execution_count": 125,
   "metadata": {},
   "outputs": [
    {
     "data": {
      "text/html": [
       "<div>\n",
       "<style scoped>\n",
       "    .dataframe tbody tr th:only-of-type {\n",
       "        vertical-align: middle;\n",
       "    }\n",
       "\n",
       "    .dataframe tbody tr th {\n",
       "        vertical-align: top;\n",
       "    }\n",
       "\n",
       "    .dataframe thead th {\n",
       "        text-align: right;\n",
       "    }\n",
       "</style>\n",
       "<table border=\"1\" class=\"dataframe\">\n",
       "  <thead>\n",
       "    <tr style=\"text-align: right;\">\n",
       "      <th></th>\n",
       "      <th>Pounds in 1000s</th>\n",
       "      <th>Miles per gallon</th>\n",
       "    </tr>\n",
       "  </thead>\n",
       "  <tbody>\n",
       "    <tr>\n",
       "      <th>0</th>\n",
       "      <td>3.50</td>\n",
       "      <td>18</td>\n",
       "    </tr>\n",
       "    <tr>\n",
       "      <th>1</th>\n",
       "      <td>3.69</td>\n",
       "      <td>15</td>\n",
       "    </tr>\n",
       "    <tr>\n",
       "      <th>2</th>\n",
       "      <td>3.44</td>\n",
       "      <td>18</td>\n",
       "    </tr>\n",
       "    <tr>\n",
       "      <th>3</th>\n",
       "      <td>3.43</td>\n",
       "      <td>16</td>\n",
       "    </tr>\n",
       "    <tr>\n",
       "      <th>4</th>\n",
       "      <td>4.34</td>\n",
       "      <td>15</td>\n",
       "    </tr>\n",
       "  </tbody>\n",
       "</table>\n",
       "</div>"
      ],
      "text/plain": [
       "   Pounds in 1000s  Miles per gallon\n",
       "0             3.50                18\n",
       "1             3.69                15\n",
       "2             3.44                18\n",
       "3             3.43                16\n",
       "4             4.34                15"
      ]
     },
     "execution_count": 125,
     "metadata": {},
     "output_type": "execute_result"
    }
   ],
   "source": [
    "data.head()"
   ]
  },
  {
   "cell_type": "code",
   "execution_count": 266,
   "metadata": {},
   "outputs": [],
   "source": [
    "w = 0\n",
    "b = 0\n",
    "lr = 0.01\n",
    "x = pounds\n",
    "y = miles\n",
    "iterations = 50\n",
    "tracking = pd.DataFrame()\n",
    "weight_track, bias_track, loss_track, dw_track, db_track = [],[],[],[],[]\n",
    "y_hat_track = np.zeros((iterations,7))\n",
    "i = 0\n"
   ]
  },
  {
   "cell_type": "markdown",
   "metadata": {},
   "source": [
    "### Manual"
   ]
  },
  {
   "cell_type": "code",
   "execution_count": 228,
   "metadata": {},
   "outputs": [
    {
     "name": "stdout",
     "output_type": "stream",
     "text": [
      "[12.91  13.556 12.706 12.672 15.766 16.038  9.068]\n"
     ]
    }
   ],
   "source": [
    "weight_track.append(w)\n",
    "bias_track.append(b)\n",
    "y_hat = w * x + b\n",
    "y_hat_track[i] = y_hat\n",
    "print(y_hat)"
   ]
  },
  {
   "cell_type": "code",
   "execution_count": 229,
   "metadata": {},
   "outputs": [
    {
     "name": "stdout",
     "output_type": "stream",
     "text": [
      "42.11429714285714\n"
     ]
    }
   ],
   "source": [
    "loss = np.mean(np.square(y-y_hat))\n",
    "loss_track.append(loss)\n",
    "print(loss)"
   ]
  },
  {
   "cell_type": "code",
   "execution_count": 230,
   "metadata": {},
   "outputs": [
    {
     "name": "stdout",
     "output_type": "stream",
     "text": [
      "-21.664628571428576\n",
      "-7.795428571428572\n"
     ]
    }
   ],
   "source": [
    "d_w = np.mean((y_hat - y) *2*x)\n",
    "dw_track.append(d_w)\n",
    "print(d_w)\n",
    "d_b = np.mean((y_hat - y) *2)\n",
    "db_track.append(d_b)\n",
    "print(d_b)"
   ]
  },
  {
   "cell_type": "code",
   "execution_count": 231,
   "metadata": {},
   "outputs": [
    {
     "name": "stdout",
     "output_type": "stream",
     "text": [
      "w = 3.62\n",
      "b = 1.09\n"
     ]
    }
   ],
   "source": [
    "w = (w - lr * d_w).round(2)\n",
    "b = (b - lr * d_b).round(2)\n",
    "print(f'w = {w}\\nb = {b}')"
   ]
  },
  {
   "cell_type": "code",
   "execution_count": 232,
   "metadata": {},
   "outputs": [
    {
     "name": "stdout",
     "output_type": "stream",
     "text": [
      "Iteration: 6\n"
     ]
    }
   ],
   "source": [
    "i+=1\n",
    "print(f'Iteration: {i}')"
   ]
  },
  {
   "cell_type": "code",
   "execution_count": 233,
   "metadata": {},
   "outputs": [],
   "source": [
    "tracking = tracking.assign(W = weight_track, B = bias_track, Loss = loss_track, d_w = dw_track, d_b = db_track)"
   ]
  },
  {
   "cell_type": "code",
   "execution_count": 234,
   "metadata": {},
   "outputs": [
    {
     "data": {
      "text/html": [
       "<div>\n",
       "<style scoped>\n",
       "    .dataframe tbody tr th:only-of-type {\n",
       "        vertical-align: middle;\n",
       "    }\n",
       "\n",
       "    .dataframe tbody tr th {\n",
       "        vertical-align: top;\n",
       "    }\n",
       "\n",
       "    .dataframe thead th {\n",
       "        text-align: right;\n",
       "    }\n",
       "</style>\n",
       "<table border=\"1\" class=\"dataframe\">\n",
       "  <thead>\n",
       "    <tr style=\"text-align: right;\">\n",
       "      <th></th>\n",
       "      <th>W</th>\n",
       "      <th>B</th>\n",
       "      <th>Loss</th>\n",
       "      <th>d_w</th>\n",
       "      <th>d_b</th>\n",
       "    </tr>\n",
       "  </thead>\n",
       "  <tbody>\n",
       "    <tr>\n",
       "      <th>0</th>\n",
       "      <td>0.00</td>\n",
       "      <td>0.00</td>\n",
       "      <td>303.714286</td>\n",
       "      <td>-119.717143</td>\n",
       "      <td>-34.285714</td>\n",
       "    </tr>\n",
       "    <tr>\n",
       "      <th>1</th>\n",
       "      <td>1.20</td>\n",
       "      <td>0.34</td>\n",
       "      <td>170.673326</td>\n",
       "      <td>-85.228914</td>\n",
       "      <td>-24.969143</td>\n",
       "    </tr>\n",
       "    <tr>\n",
       "      <th>2</th>\n",
       "      <td>2.05</td>\n",
       "      <td>0.59</td>\n",
       "      <td>103.224092</td>\n",
       "      <td>-60.733779</td>\n",
       "      <td>-18.351571</td>\n",
       "    </tr>\n",
       "    <tr>\n",
       "      <th>3</th>\n",
       "      <td>2.66</td>\n",
       "      <td>0.77</td>\n",
       "      <td>68.663572</td>\n",
       "      <td>-43.150683</td>\n",
       "      <td>-13.601314</td>\n",
       "    </tr>\n",
       "    <tr>\n",
       "      <th>4</th>\n",
       "      <td>3.09</td>\n",
       "      <td>0.91</td>\n",
       "      <td>51.125969</td>\n",
       "      <td>-30.661653</td>\n",
       "      <td>-10.226543</td>\n",
       "    </tr>\n",
       "    <tr>\n",
       "      <th>5</th>\n",
       "      <td>3.40</td>\n",
       "      <td>1.01</td>\n",
       "      <td>42.114297</td>\n",
       "      <td>-21.664629</td>\n",
       "      <td>-7.795429</td>\n",
       "    </tr>\n",
       "  </tbody>\n",
       "</table>\n",
       "</div>"
      ],
      "text/plain": [
       "      W     B        Loss         d_w        d_b\n",
       "0  0.00  0.00  303.714286 -119.717143 -34.285714\n",
       "1  1.20  0.34  170.673326  -85.228914 -24.969143\n",
       "2  2.05  0.59  103.224092  -60.733779 -18.351571\n",
       "3  2.66  0.77   68.663572  -43.150683 -13.601314\n",
       "4  3.09  0.91   51.125969  -30.661653 -10.226543\n",
       "5  3.40  1.01   42.114297  -21.664629  -7.795429"
      ]
     },
     "execution_count": 234,
     "metadata": {},
     "output_type": "execute_result"
    }
   ],
   "source": [
    "tracking.head(6)"
   ]
  },
  {
   "cell_type": "code",
   "execution_count": 235,
   "metadata": {},
   "outputs": [
    {
     "name": "stdout",
     "output_type": "stream",
     "text": [
      "[[ 0.      0.      0.      0.      0.      0.      0.    ]\n",
      " [ 4.54    4.768   4.468   4.456   5.548   5.644   3.184 ]\n",
      " [ 7.765   8.1545  7.642   7.6215  9.487   9.651   5.4485]\n",
      " [10.08   10.5854  9.9204  9.8938 12.3144 12.5272  7.0742]\n",
      " [11.725  12.3121 11.5396 11.5087 14.3206 14.5678  8.2333]\n",
      " [12.91   13.556  12.706  12.672  15.766  16.038   9.068 ]]\n"
     ]
    }
   ],
   "source": [
    "print(y_hat_track)"
   ]
  },
  {
   "cell_type": "markdown",
   "metadata": {},
   "source": [
    "### Automation"
   ]
  },
  {
   "cell_type": "code",
   "execution_count": 267,
   "metadata": {},
   "outputs": [],
   "source": [
    "for i in range(iterations):\n",
    "    weight_track.append(w)\n",
    "    bias_track.append(b)\n",
    "\n",
    "    y_hat = w * x + b\n",
    "    loss = np.mean((y_hat - y)**2)\n",
    "    y_hat_track[i] = y_hat\n",
    "    loss_track.append(loss)\n",
    "\n",
    "    dw = np.mean((y_hat-y)*2*x)\n",
    "    db = np.mean((y_hat-y)*2)\n",
    "    dw_track.append(dw)\n",
    "    db_track.append(db)\n",
    "    \n",
    "    w = (w - lr * dw).round(2)\n",
    "    b = (b - lr * db).round(2)\n",
    "    \n",
    "\n"
   ]
  },
  {
   "cell_type": "code",
   "execution_count": 268,
   "metadata": {},
   "outputs": [],
   "source": [
    "tracking = tracking.assign(W = weight_track, B = bias_track, Loss = loss_track, d_w = dw_track, d_b = db_track)"
   ]
  },
  {
   "cell_type": "code",
   "execution_count": 271,
   "metadata": {},
   "outputs": [
    {
     "data": {
      "text/html": [
       "<div>\n",
       "<style scoped>\n",
       "    .dataframe tbody tr th:only-of-type {\n",
       "        vertical-align: middle;\n",
       "    }\n",
       "\n",
       "    .dataframe tbody tr th {\n",
       "        vertical-align: top;\n",
       "    }\n",
       "\n",
       "    .dataframe thead th {\n",
       "        text-align: right;\n",
       "    }\n",
       "</style>\n",
       "<table border=\"1\" class=\"dataframe\">\n",
       "  <thead>\n",
       "    <tr style=\"text-align: right;\">\n",
       "      <th></th>\n",
       "      <th>W</th>\n",
       "      <th>B</th>\n",
       "      <th>Loss</th>\n",
       "      <th>d_w</th>\n",
       "      <th>d_b</th>\n",
       "    </tr>\n",
       "  </thead>\n",
       "  <tbody>\n",
       "    <tr>\n",
       "      <th>45</th>\n",
       "      <td>3.97</td>\n",
       "      <td>1.99</td>\n",
       "      <td>31.444240</td>\n",
       "      <td>0.608141</td>\n",
       "      <td>-1.733057</td>\n",
       "    </tr>\n",
       "    <tr>\n",
       "      <th>46</th>\n",
       "      <td>3.96</td>\n",
       "      <td>2.01</td>\n",
       "      <td>31.403793</td>\n",
       "      <td>0.485074</td>\n",
       "      <td>-1.765029</td>\n",
       "    </tr>\n",
       "    <tr>\n",
       "      <th>47</th>\n",
       "      <td>3.96</td>\n",
       "      <td>2.03</td>\n",
       "      <td>31.368893</td>\n",
       "      <td>0.629017</td>\n",
       "      <td>-1.725029</td>\n",
       "    </tr>\n",
       "    <tr>\n",
       "      <th>48</th>\n",
       "      <td>3.95</td>\n",
       "      <td>2.05</td>\n",
       "      <td>31.328398</td>\n",
       "      <td>0.505950</td>\n",
       "      <td>-1.757000</td>\n",
       "    </tr>\n",
       "    <tr>\n",
       "      <th>49</th>\n",
       "      <td>3.94</td>\n",
       "      <td>2.07</td>\n",
       "      <td>31.288494</td>\n",
       "      <td>0.382883</td>\n",
       "      <td>-1.788971</td>\n",
       "    </tr>\n",
       "  </tbody>\n",
       "</table>\n",
       "</div>"
      ],
      "text/plain": [
       "       W     B       Loss       d_w       d_b\n",
       "45  3.97  1.99  31.444240  0.608141 -1.733057\n",
       "46  3.96  2.01  31.403793  0.485074 -1.765029\n",
       "47  3.96  2.03  31.368893  0.629017 -1.725029\n",
       "48  3.95  2.05  31.328398  0.505950 -1.757000\n",
       "49  3.94  2.07  31.288494  0.382883 -1.788971"
      ]
     },
     "execution_count": 271,
     "metadata": {},
     "output_type": "execute_result"
    }
   ],
   "source": [
    "tracking.tail(5)"
   ]
  },
  {
   "cell_type": "code",
   "execution_count": 272,
   "metadata": {},
   "outputs": [
    {
     "name": "stdout",
     "output_type": "stream",
     "text": [
      "[15.86   16.6086 15.6236 15.5842 19.1696 19.4848 11.4078]\n"
     ]
    }
   ],
   "source": [
    "print(y_hat_track[49])"
   ]
  },
  {
   "cell_type": "code",
   "execution_count": 270,
   "metadata": {},
   "outputs": [
    {
     "data": {
      "image/png": "[encoded data removed]",
      "text/plain": [
       "<Figure size 640x480 with 1 Axes>"
      ]
     },
     "metadata": {},
     "output_type": "display_data"
    }
   ],
   "source": [
    "plt.plot(range(1,iterations+1), tracking['Loss'], label='Loss', marker='o')\n",
    "plt.grid()\n",
    "plt.show()"
   ]
  },
  {
   "cell_type": "code",
   "execution_count": null,
   "metadata": {},
   "outputs": [],
   "source": []
  }
 ],
 "metadata": {
  "kernelspec": {
   "display_name": "Python 3",
   "language": "python",
   "name": "python3"
  },
  "language_info": {
   "codemirror_mode": {
    "name": "ipython",
    "version": 3
   },
   "file_extension": ".py",
   "mimetype": "text/x-python",
   "name": "python",
   "nbconvert_exporter": "python",
   "pygments_lexer": "ipython3",
   "version": "3.9.20"
  }
 },
 "nbformat": 4,
 "nbformat_minor": 2
}
